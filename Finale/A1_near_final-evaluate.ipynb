{
 "cells": [
  {
   "cell_type": "code",
   "execution_count": 1,
   "id": "6f0fb02b",
   "metadata": {
    "ExecuteTime": {
     "end_time": "2022-03-11T08:08:07.362041Z",
     "start_time": "2022-03-11T08:08:05.597816Z"
    },
    "run_control": {
     "marked": false
    }
   },
   "outputs": [
    {
     "name": "stdout",
     "output_type": "stream",
     "text": [
      "Init Plugin\n",
      "2.5.0\n",
      "Init Graph Optimizer\n",
      "Init Kernel\n",
      "Usage of gpu: [PhysicalDevice(name='/physical_device:CPU:0', device_type='CPU'), PhysicalDevice(name='/physical_device:GPU:0', device_type='GPU')]\n",
      "Built with CUDA: False\n",
      "Num GPUs Available:  1\n"
     ]
    }
   ],
   "source": [
    "import tensorflow as tf\n",
    "tf.config.experimental.set_memory_growth(\n",
    "    tf.config.list_physical_devices('GPU')[0], True)\n",
    "print(tf.__version__)\n",
    "print(\"Usage of gpu: {}\".format(tf.config.list_physical_devices()))\n",
    "print(\"Built with CUDA: {}\".format(tf.test.is_built_with_cuda()))\n",
    "print(\"Num GPUs Available: \", len(tf.config.list_physical_devices('GPU')))"
   ]
  },
  {
   "cell_type": "code",
   "execution_count": 2,
   "id": "4b9fc6ec",
   "metadata": {
    "ExecuteTime": {
     "end_time": "2022-03-11T08:08:07.952842Z",
     "start_time": "2022-03-11T08:08:07.363031Z"
    },
    "run_control": {
     "marked": false
    }
   },
   "outputs": [
    {
     "name": "stdout",
     "output_type": "stream",
     "text": [
      "TensorFlow Version: 2.5.0\n"
     ]
    }
   ],
   "source": [
    "import numpy as np\n",
    "import pandas as pd\n",
    "import seaborn as sns\n",
    "import tensorflow as tf\n",
    "import matplotlib.pyplot as plt\n",
    "\n",
    "import os\n",
    "from distutils.dir_util import copy_tree, remove_tree\n",
    "\n",
    "from PIL import Image\n",
    "from random import randint\n",
    "\n",
    "from imblearn.over_sampling import SMOTE\n",
    "from sklearn.model_selection import train_test_split\n",
    "from sklearn.metrics import matthews_corrcoef as MCC\n",
    "from sklearn.metrics import balanced_accuracy_score as BAS\n",
    "from sklearn.metrics import classification_report, confusion_matrix\n",
    "\n",
    "import tensorflow_addons as tfa\n",
    "import tensorflow.keras\n",
    "from tensorflow.keras import Sequential, Input\n",
    "from tensorflow.keras.layers import Dense, Dropout\n",
    "from tensorflow.keras.layers import Conv2D, Flatten\n",
    "from tensorflow.keras.callbacks import EarlyStopping\n",
    "from tensorflow.keras.applications.inception_v3 import InceptionV3\n",
    "from tensorflow.keras.preprocessing.image import ImageDataGenerator as IDG\n",
    "from tensorflow.keras.layers import SeparableConv2D, BatchNormalization, MaxPool2D\n",
    "from sklearn.model_selection import KFold \n",
    "import pydot\n",
    "import gc\n",
    "import pickle\n",
    "\n",
    "\n",
    "print(\"TensorFlow Version:\", tf.__version__)"
   ]
  },
  {
   "cell_type": "code",
   "execution_count": 3,
   "id": "dbcc5ee7",
   "metadata": {
    "ExecuteTime": {
     "end_time": "2022-03-11T08:08:07.955091Z",
     "start_time": "2022-03-11T08:08:07.953430Z"
    }
   },
   "outputs": [],
   "source": [
    "base_dir = \"/Users/tarun/IIITN Project/ADNI/\"\n",
    "root_dir = \"./\"\n",
    "test_dir = base_dir + \"test/\"\n",
    "train_dir = base_dir + \"train/\"\n",
    "work_dir = root_dir + \"dataset/\"\n",
    "save_dir = root_dir + \"saved_models/\""
   ]
  },
  {
   "cell_type": "code",
   "execution_count": 4,
   "id": "9d24b518",
   "metadata": {
    "ExecuteTime": {
     "end_time": "2022-03-11T08:08:07.957765Z",
     "start_time": "2022-03-11T08:08:07.956235Z"
    }
   },
   "outputs": [],
   "source": [
    "IMG_SIZE = 256\n",
    "IMAGE_SIZE = [256, 256]\n",
    "DIM = (IMG_SIZE, IMG_SIZE)\n",
    "ZOOM = [.99, 1.01]\n",
    "BRIGHT_RANGE = [0.8, 1.2]\n",
    "HORZ_FLIP = True\n",
    "FILL_MODE = \"constant\"\n",
    "DATA_FORMAT = \"channels_last\""
   ]
  },
  {
   "cell_type": "code",
   "execution_count": 5,
   "id": "ec26e5b3",
   "metadata": {
    "ExecuteTime": {
     "end_time": "2022-03-11T08:08:08.034203Z",
     "start_time": "2022-03-11T08:08:07.958500Z"
    }
   },
   "outputs": [
    {
     "name": "stdout",
     "output_type": "stream",
     "text": [
      "Found 2614 images belonging to 5 classes.\n"
     ]
    }
   ],
   "source": [
    "work_dr = IDG(rescale = 1./255, brightness_range=BRIGHT_RANGE, zoom_range=ZOOM, data_format=DATA_FORMAT, fill_mode=FILL_MODE, horizontal_flip=HORZ_FLIP)\n",
    "\n",
    "train_data_gen = work_dr.flow_from_directory(directory=work_dir, target_size=DIM, batch_size=6500, shuffle=False)"
   ]
  },
  {
   "cell_type": "code",
   "execution_count": 21,
   "id": "eafb662a",
   "metadata": {
    "ExecuteTime": {
     "end_time": "2022-03-11T08:18:32.166340Z",
     "start_time": "2022-03-11T08:17:39.562070Z"
    }
   },
   "outputs": [
    {
     "name": "stdout",
     "output_type": "stream",
     "text": [
      "(2614, 256, 256, 3) (2614, 5)\n",
      "(5800, 256, 256, 3) (5800, 5)\n"
     ]
    }
   ],
   "source": [
    "train_data, train_labels = train_data_gen.next()\n",
    "print(train_data.shape, train_labels.shape)\n",
    "#Performing over-sampling of the data, since the classes are imbalanced\n",
    "sm = SMOTE(random_state=42)\n",
    "train_data, train_labels = sm.fit_resample(train_data.reshape(-1, IMG_SIZE * IMG_SIZE * 3), train_labels)\n",
    "train_data = train_data.reshape(-1, IMG_SIZE, IMG_SIZE, 3)\n",
    "print(train_data.shape, train_labels.shape)"
   ]
  },
  {
   "cell_type": "code",
   "execution_count": 22,
   "id": "4a6eaceb",
   "metadata": {
    "ExecuteTime": {
     "end_time": "2022-03-11T08:18:35.801157Z",
     "start_time": "2022-03-11T08:18:32.195144Z"
    }
   },
   "outputs": [],
   "source": [
    "#Splitting the data into train, test, and validation sets\n",
    "\n",
    "train_data, test_data, train_labels, test_labels = train_test_split(train_data, train_labels, test_size = 0.2, random_state=42)\n",
    "train_data, val_data, train_labels, val_labels = train_test_split(train_data, train_labels, test_size = 0.2, random_state=42)"
   ]
  },
  {
   "cell_type": "code",
   "execution_count": 23,
   "id": "23a0bf5b",
   "metadata": {
    "ExecuteTime": {
     "end_time": "2022-03-11T08:20:22.012856Z",
     "start_time": "2022-03-11T08:20:22.000381Z"
    }
   },
   "outputs": [],
   "source": [
    "def construct_model(act='relu'):\n",
    "    \"\"\"Constructing a Sequential CNN architecture for performing the classification task. \"\"\"\n",
    "    \n",
    "    model = Sequential([\n",
    "        Input(shape=(*IMAGE_SIZE, 3)),\n",
    "        Conv2D(16, 3, activation=act, padding='same'),\n",
    "        MaxPool2D(pool_size = (2, 2), strides = (2, 2), padding = 'valid'),\n",
    "        BatchNormalization(),\n",
    "        Dropout(0.2),\n",
    "        Conv2D(32, 3, activation=act, padding='same'),\n",
    "        MaxPool2D(pool_size = (2, 2), strides = (2, 2), padding = 'valid'),\n",
    "        BatchNormalization(),\n",
    "        Dropout(0.2),\n",
    "        Conv2D(64, 3, activation=act, padding='same'),\n",
    "        MaxPool2D(pool_size = (2, 2), strides = (2, 2), padding = 'valid'),\n",
    "        BatchNormalization(),\n",
    "        Dropout(0.2),\n",
    "        Conv2D(128, 3, activation=act, padding='same'),\n",
    "        MaxPool2D(pool_size = (2, 2), strides = (2, 2), padding = 'valid'),\n",
    "        BatchNormalization(),\n",
    "        Dropout(0.2),\n",
    "        Conv2D(256, 3, activation=act, padding='same'),\n",
    "        BatchNormalization(),\n",
    "        Dropout(0.2),\n",
    "        Flatten(),\n",
    "        Dense(512, activation='relu'),\n",
    "        BatchNormalization(),\n",
    "        Dropout(0.7),\n",
    "        Dense(128, activation='relu'),\n",
    "        BatchNormalization(),\n",
    "        Dropout(0.5),\n",
    "        Dense(64, activation='relu'),\n",
    "        BatchNormalization(),\n",
    "        Dropout(0.3),\n",
    "        Dense(5, activation='softmax')        \n",
    "    ], name = \"cnn_model\")\n",
    "\n",
    "    return model"
   ]
  },
  {
   "cell_type": "code",
   "execution_count": 24,
   "id": "57d255c5",
   "metadata": {
    "ExecuteTime": {
     "end_time": "2022-03-11T08:20:34.141726Z",
     "start_time": "2022-03-11T08:20:33.602937Z"
    }
   },
   "outputs": [],
   "source": [
    "model = tensorflow.keras.models.load_model('/Users/tarun/IIITN Project/saved_models/model_13.h5')"
   ]
  },
  {
   "cell_type": "code",
   "execution_count": 25,
   "id": "10e33227",
   "metadata": {
    "ExecuteTime": {
     "end_time": "2022-03-11T08:21:03.132950Z",
     "start_time": "2022-03-11T08:21:00.850612Z"
    },
    "scrolled": true
   },
   "outputs": [
    {
     "name": "stderr",
     "output_type": "stream",
     "text": [
      "2022-03-11 13:51:00.960885: I tensorflow/core/grappler/optimizers/custom_graph_optimizer_registry.cc:112] Plugin optimizer for device_type GPU is enabled.\n"
     ]
    },
    {
     "name": "stdout",
     "output_type": "stream",
     "text": [
      "29/29 [==============================] - 2s 64ms/step - loss: 0.5518 - acc: 0.8707 - auc: 0.9653 - f1_score: 0.8743\n",
      "Testing Accuracy: 87.07%\n"
     ]
    }
   ],
   "source": [
    "test_scores = model.evaluate(val_data,val_labels)\n",
    "print(\"Testing Accuracy: %.2f%%\"%(test_scores[1] * 100))"
   ]
  },
  {
   "cell_type": "code",
   "execution_count": null,
   "id": "3d4df701",
   "metadata": {},
   "outputs": [],
   "source": []
  },
  {
   "cell_type": "code",
   "execution_count": null,
   "id": "1d2dbc61",
   "metadata": {},
   "outputs": [],
   "source": []
  }
 ],
 "metadata": {
  "kernelspec": {
   "display_name": "Python 3 (ipykernel)",
   "language": "python",
   "name": "python3"
  },
  "language_info": {
   "codemirror_mode": {
    "name": "ipython",
    "version": 3
   },
   "file_extension": ".py",
   "mimetype": "text/x-python",
   "name": "python",
   "nbconvert_exporter": "python",
   "pygments_lexer": "ipython3",
   "version": "3.9.10"
  },
  "notify_time": "30",
  "varInspector": {
   "cols": {
    "lenName": 16,
    "lenType": 16,
    "lenVar": 40
   },
   "kernels_config": {
    "python": {
     "delete_cmd_postfix": "",
     "delete_cmd_prefix": "del ",
     "library": "var_list.py",
     "varRefreshCmd": "print(var_dic_list())"
    },
    "r": {
     "delete_cmd_postfix": ") ",
     "delete_cmd_prefix": "rm(",
     "library": "var_list.r",
     "varRefreshCmd": "cat(var_dic_list()) "
    }
   },
   "oldHeight": 436.844,
   "position": {
    "height": "546.844px",
    "left": "4px",
    "right": "20px",
    "top": "4px",
    "width": "788px"
   },
   "types_to_exclude": [
    "module",
    "function",
    "builtin_function_or_method",
    "instance",
    "_Feature"
   ],
   "varInspector_section_display": "block",
   "window_display": false
  }
 },
 "nbformat": 4,
 "nbformat_minor": 5
}
